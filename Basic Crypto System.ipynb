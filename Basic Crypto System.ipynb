{
 "cells": [
  {
   "cell_type": "markdown",
   "metadata": {},
   "source": [
    "# Basic Crypto System"
   ]
  },
  {
   "attachments": {
    "image.png": {
     "image/png": "[encoded data removed]"
    }
   },
   "cell_type": "markdown",
   "metadata": {},
   "source": [
    "![image.png](attachment:image.png)"
   ]
  },
  {
   "cell_type": "markdown",
   "metadata": {},
   "source": [
    "p = Original Message <br>\n",
    "k = Key (To Encrypt and Decrypt) <br>\n",
    "c = Cipher"
   ]
  },
  {
   "cell_type": "markdown",
   "metadata": {},
   "source": [
    "This crypto system is made based on above XOR logic\n",
    "\n",
    "ASCII Encoding info Retrieved from this web site https://www.whoishostingthis.com/resources/ascii/#:~:text=There%20are%20two%20types%20of,pieces%20which%20are%20mainly%20transparent. "
   ]
  },
  {
   "cell_type": "code",
   "execution_count": 1,
   "metadata": {},
   "outputs": [],
   "source": [
    "# Required packages\n",
    "import binascii\n",
    "import codecs\n",
    "import random"
   ]
  },
  {
   "cell_type": "code",
   "execution_count": 2,
   "metadata": {},
   "outputs": [],
   "source": [
    "def logic(bit1,bit2):\n",
    "    if bit1==0 and bit2==0: return 0\n",
    "    if bit1==0 and bit2==1: return 1\n",
    "    if bit1==1 and bit2==0: return 1\n",
    "    if bit1==1 and bit2==1: return 0"
   ]
  },
  {
   "cell_type": "code",
   "execution_count": 3,
   "metadata": {},
   "outputs": [],
   "source": [
    "def cryptFunc(Binarybits, key=None):\n",
    "    random.seed(1)\n",
    "    if key==None:\n",
    "        length = len(Binarybits)\n",
    "        key = [random.randint(0,1) for _ in range(length)]\n",
    "    \n",
    "    e = [logic(int(val_1),int(val_2)) for i,val_1 in enumerate(list(Binarybits)) for j,val_2 in enumerate(key) if i==j]\n",
    "\n",
    "    Cipher = ''.join(str(i) for i in e)\n",
    "    Key = ''.join(str(i) for i in key)\n",
    "\n",
    "    return Cipher, Key"
   ]
  },
  {
   "cell_type": "code",
   "execution_count": 4,
   "metadata": {},
   "outputs": [],
   "source": [
    "def binaryToHex(x):\n",
    "    h = hex(int(x,2))[2:]\n",
    "    return h"
   ]
  },
  {
   "cell_type": "code",
   "execution_count": 5,
   "metadata": {},
   "outputs": [],
   "source": [
    "def hexToBinary(x):\n",
    "    b = bin(int(x, 16))[2:]\n",
    "    return b"
   ]
  },
  {
   "cell_type": "code",
   "execution_count": 40,
   "metadata": {},
   "outputs": [],
   "source": [
    "def asciitoHex(x):\n",
    "    byteArry = codecs.encode(x, encoding=\"ISO-8859-1\")\n",
    "    hexArray = str(binascii.hexlify(byteArry))[2:-1] # here b'xxxx' string include b'' part, removing by indexiing [2:-1]\n",
    "    return hexArray"
   ]
  },
  {
   "cell_type": "code",
   "execution_count": 41,
   "metadata": {},
   "outputs": [],
   "source": [
    "def hexToAscii(x):\n",
    "    return bytearray.fromhex(x).decode(\"ISO-8859-1\")"
   ]
  },
  {
   "cell_type": "code",
   "execution_count": 42,
   "metadata": {},
   "outputs": [
    {
     "data": {
      "text/plain": [
       "'0Xc!/`-=@$?'"
      ]
     },
     "execution_count": 42,
     "metadata": {},
     "output_type": "execute_result"
    }
   ],
   "source": [
    "# Testing a sample conversion back and forth\n",
    "hexToAscii(binaryToHex(hexToBinary(asciitoHex(\"0Xc!/`-=@$?\"))))"
   ]
  },
  {
   "cell_type": "code",
   "execution_count": 58,
   "metadata": {},
   "outputs": [],
   "source": [
    "def encrypt(msg):\n",
    "    ah = asciitoHex(msg)\n",
    "    hb = hexToBinary(ah)\n",
    "    cipher, key = cryptFunc(hb)\n",
    "    bh = binaryToHex(cipher)\n",
    "    ha = hexToAscii(bh)\n",
    "    return ha, key"
   ]
  },
  {
   "cell_type": "code",
   "execution_count": 62,
   "metadata": {},
   "outputs": [],
   "source": [
    "def decrypt(msg, key):\n",
    "    ah = asciitoHex(msg)\n",
    "    hb = hexToBinary(ah)\n",
    "    cipher, _ = cryptFunc(hb,key)\n",
    "    bh = binaryToHex(cipher)\n",
    "    ha = hexToAscii(bh)\n",
    "    return ha"
   ]
  },
  {
   "cell_type": "code",
   "execution_count": 63,
   "metadata": {},
   "outputs": [
    {
     "name": "stdout",
     "output_type": "stream",
     "text": [
      "Original:  Target the ship at 12°45'54.7\"S 92°52'08.5\"E\n",
      "Encrypted Msg:  C÷º4(YË\u001d",
      "¾bò¬\bì<ÿÜ­\u000b",
      "\u0014rf¬i7Û\u001d",
      "s0©Î?ø@r[xÑ8V\n"
     ]
    }
   ],
   "source": [
    "message = \"Target the ship at 12°45'54.7\\\"S 92°52'08.5\\\"E\"\n",
    "cryptedMsg, key = encrypt(message)\n",
    "print(\"Original: \", message)\n",
    "print(\"Encrypted Msg: \", cryptedMsg)"
   ]
  },
  {
   "cell_type": "code",
   "execution_count": 64,
   "metadata": {},
   "outputs": [
    {
     "name": "stdout",
     "output_type": "stream",
     "text": [
      "Decrypted Msg:  Target the ship at 12°45'54.7\"S 92°52'08.5\"E\n"
     ]
    }
   ],
   "source": [
    "deMessage = decrypt(cryptedMsg, key)\n",
    "print(\"Decrypted Msg: \", deMessage)"
   ]
  },
  {
   "cell_type": "code",
   "execution_count": null,
   "metadata": {},
   "outputs": [],
   "source": []
  }
 ],
 "metadata": {
  "kernelspec": {
   "display_name": "Python 3",
   "language": "python",
   "name": "python3"
  },
  "language_info": {
   "codemirror_mode": {
    "name": "ipython",
    "version": 3
   },
   "file_extension": ".py",
   "mimetype": "text/x-python",
   "name": "python",
   "nbconvert_exporter": "python",
   "pygments_lexer": "ipython3",
   "version": "3.7.9"
  }
 },
 "nbformat": 4,
 "nbformat_minor": 4
}
